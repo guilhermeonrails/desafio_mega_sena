{
  "nbformat": 4,
  "nbformat_minor": 0,
  "metadata": {
    "colab": {
      "name": "Mega do Gui.ipynb",
      "provenance": [],
      "authorship_tag": "ABX9TyNmlj4KZJgjgwwE4r5H85Nt",
      "include_colab_link": true
    },
    "kernelspec": {
      "name": "python3",
      "display_name": "Python 3"
    },
    "language_info": {
      "name": "python"
    }
  },
  "cells": [
    {
      "cell_type": "markdown",
      "metadata": {
        "id": "view-in-github",
        "colab_type": "text"
      },
      "source": [
        "<a href=\"https://colab.research.google.com/github/guilhermeonrails/desafio_mega_sena/blob/master/Mega_do_Gui.ipynb\" target=\"_parent\"><img src=\"https://colab.research.google.com/assets/colab-badge.svg\" alt=\"Open In Colab\"/></a>"
      ]
    },
    {
      "cell_type": "code",
      "metadata": {
        "id": "eERg9ljQfs2j"
      },
      "source": [
        "# Sorteando os números\n",
        "from random import sample,seed\n",
        "\n",
        "numeros_sorteados = sample(range(1, 61), 6)\n",
        "numeros_sorteados = sorted(numeros_sorteados)\n",
        "# print(numeros_sorteados)"
      ],
      "execution_count": null,
      "outputs": []
    },
    {
      "cell_type": "code",
      "metadata": {
        "colab": {
          "base_uri": "https://localhost:8080/"
        },
        "id": "MGv3voFNf0GV",
        "outputId": "7e6eed40-60c4-4fde-f0c2-4300574f436d"
      },
      "source": [
        "# registrando chute\n",
        "\n",
        "chute = []\n",
        "\n",
        "for i in range(1, 7):\n",
        "  num = 0\n",
        "  while num < 1 or num > 60 or num in chute:\n",
        "    num = int(input(f'{i}º número - Digite um número entre 1 e 60 '))\n",
        "  chute.append(num)\n",
        "\n",
        "chute = sorted(chute)\n",
        "print('Seu chute é', chute)"
      ],
      "execution_count": null,
      "outputs": [
        {
          "output_type": "stream",
          "text": [
            "1º número - Digite um número entre 1 e 60 42\n",
            "2º número - Digite um número entre 1 e 60 56\n",
            "3º número - Digite um número entre 1 e 60 3\n",
            "4º número - Digite um número entre 1 e 60 25\n",
            "5º número - Digite um número entre 1 e 60 38\n",
            "6º número - Digite um número entre 1 e 60 16\n",
            "Seu chute é [3, 16, 25, 38, 42, 56]\n"
          ],
          "name": "stdout"
        }
      ]
    },
    {
      "cell_type": "code",
      "metadata": {
        "id": "TLtgoJX8h0XH"
      },
      "source": [
        "import numpy as np\n",
        "resultado = np.in1d(chute, numeros_sorteados)\n",
        "acertos = len(np.intersect1d(chute, numeros_sorteados))\n",
        "# print(acertos)"
      ],
      "execution_count": null,
      "outputs": []
    },
    {
      "cell_type": "code",
      "metadata": {
        "colab": {
          "base_uri": "https://localhost:8080/"
        },
        "id": "HynIJ04VkEaG",
        "outputId": "7c9bccfb-9617-40b9-9cbb-e0ec20fe340a"
      },
      "source": [
        "print('Você ganhou na Mega') if resultado.all() else print(f'Você perdeu e acertou {acertos} número(s).')\n",
        "print('\\nSorteio   ', numeros_sorteados)\n",
        "print('Seu chute ', chute)"
      ],
      "execution_count": null,
      "outputs": [
        {
          "output_type": "stream",
          "text": [
            "Você perdeu e acertou 0 número(s).\n",
            "\n",
            "Sorteio    [2, 15, 29, 32, 34, 49]\n",
            "Seu chute  [3, 16, 25, 38, 42, 56]\n"
          ],
          "name": "stdout"
        }
      ]
    },
    {
      "cell_type": "code",
      "metadata": {
        "id": "zw-UYsi-mNFK"
      },
      "source": [
        ""
      ],
      "execution_count": null,
      "outputs": []
    }
  ]
}